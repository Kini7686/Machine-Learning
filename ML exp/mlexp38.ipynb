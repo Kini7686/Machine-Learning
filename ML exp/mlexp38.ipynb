{
  "nbformat": 4,
  "nbformat_minor": 0,
  "metadata": {
    "colab": {
      "provenance": [],
      "collapsed_sections": []
    },
    "kernelspec": {
      "name": "python3",
      "display_name": "Python 3"
    },
    "language_info": {
      "name": "python"
    }
  },
  "cells": [
    {
      "cell_type": "code",
      "execution_count": 1,
      "metadata": {
        "colab": {
          "base_uri": "https://localhost:8080/",
          "height": 265
        },
        "id": "k658E_FdcGIo",
        "outputId": "2dd798a7-f4c7-40d7-da2f-c83cdd93c483"
      },
      "outputs": [
        {
          "output_type": "display_data",
          "data": {
            "text/plain": [
              "<Figure size 432x288 with 1 Axes>"
            ],
            "image/png": "[encoded data removed]"
          },
          "metadata": {
            "needs_background": "light"
          }
        }
      ],
      "source": [
        "# dbscan clustering\n",
        "from numpy import unique\n",
        "from numpy import where\n",
        "from sklearn.datasets import make_classification\n",
        "from sklearn.cluster import DBSCAN\n",
        "from matplotlib import pyplot\n",
        "# define dataset\n",
        "X, _ = make_classification(n_samples=1000, n_features=2, n_informative=2,\n",
        "n_redundant=0, n_clusters_per_class=1, random_state=4)\n",
        "# define the model\n",
        "model = DBSCAN(eps=0.30, min_samples=9)\n",
        "# fit model and predict clusters\n",
        "yhat = model.fit_predict(X)\n",
        "# retrieve unique clusters\n",
        "clusters = unique(yhat)\n",
        "# create scatter plot for samples from each cluster\n",
        "for cluster in clusters:\n",
        "# get row indexes for samples with this cluster\n",
        "  row_ix = where(yhat == cluster)\n",
        "# create scatter of these samples\n",
        "  pyplot.scatter(X[row_ix, 0], X[row_ix, 1])\n",
        "# show the plot\n",
        "pyplot.show()\n"
      ]
    },
    {
      "cell_type": "code",
      "source": [
        "from sklearn.datasets import load_breast_cancer\n",
        "from sklearn.model_selection import train_test_split\n",
        "from sklearn.tree import DecisionTreeClassifier\n",
        "from sklearn.ensemble import BaggingClassifier\n",
        "# Load the well-known Breast Cancer dataset\n",
        "# Split into train and test sets\n",
        "x, y = load_breast_cancer(return_X_y=True)\n",
        "x_train, x_test, y_train, y_test = train_test_split(x, y, test_size=0.25,random_state=23)\n",
        "# For simplicity, we are going to use as base estimator a Decision Tree with\n",
        "#fixed parameters\n",
        "tree = DecisionTreeClassifier(max_depth=3, random_state=23)\n",
        "# The baggging ensemble classifier is initialized with:\n",
        "# base_estimator = DecisionTree\n",
        "# n_estimators = 5 : it's gonna be created 5 subsets to train 5 Decision Tree\n",
        "#models\n",
        "# max_samples = 50 : it's gonna be taken randomly 50 items with replacement\n",
        "# bootstrap = True : means that the sampling is gonna be with replacement\n",
        "bagging = BaggingClassifier(base_estimator=tree, n_estimators=5,max_samples=50, bootstrap=True)\n",
        "# Training\n",
        "bagging.fit(x_train, y_train)\n",
        "# Evaluating\n",
        "print(f\"Train score: {bagging.score(x_train, y_train)}\")\n",
        "print(f\"Test score: {bagging.score(x_test, y_test)}\")"
      ],
      "metadata": {
        "colab": {
          "base_uri": "https://localhost:8080/"
        },
        "id": "VUPmvFsyddpI",
        "outputId": "2a5b4951-436c-4690-93e2-94908fdbccf1"
      },
      "execution_count": 2,
      "outputs": [
        {
          "output_type": "stream",
          "name": "stdout",
          "text": [
            "Train score: 0.9178403755868545\n",
            "Test score: 0.9300699300699301\n"
          ]
        }
      ]
    },
    {
      "cell_type": "code",
      "source": [
        "# For this basic implementation, we only need these modules\n",
        "from sklearn.datasets import load_breast_cancer\n",
        "from sklearn.model_selection import train_test_split\n",
        "from sklearn.tree import DecisionTreeClassifier\n",
        "from sklearn.ensemble import AdaBoostClassifier\n",
        "# Load the well-known Breast Cancer dataset\n",
        "# Split into train and test sets\n",
        "x, y = load_breast_cancer(return_X_y=True)\n",
        "x_train, x_test, y_train, y_test = train_test_split(x, y, test_size=0.25,random_state=23)\n",
        "# The base learner will be a decision tree with depth = 2\n",
        "tree = DecisionTreeClassifier(max_depth=2, random_state=23)\n",
        "# AdaBoost initialization\n",
        "# It's defined the decision tree as the base learner\n",
        "# The number of estimators will be 5\n",
        "# The penalizer for the weights of each estimator is 0.1\n",
        "adaboost = AdaBoostClassifier(base_estimator=tree, n_estimators=5,\n",
        "learning_rate=0.1, random_state=23)\n",
        "# Train!\n",
        "adaboost.fit(x_train, y_train)\n",
        "# Evaluation\n",
        "print(f\"Train score: {adaboost.score(x_train, y_train)}\")\n",
        "print(f\"Test score: {adaboost.score(x_test, y_test)}\")\n"
      ],
      "metadata": {
        "colab": {
          "base_uri": "https://localhost:8080/"
        },
        "id": "hKZ8FQISeB1u",
        "outputId": "0829941f-716d-45ca-94a7-0fca021e926c"
      },
      "execution_count": 3,
      "outputs": [
        {
          "output_type": "stream",
          "name": "stdout",
          "text": [
            "Train score: 0.9694835680751174\n",
            "Test score: 0.958041958041958\n"
          ]
        }
      ]
    }
  ]
}